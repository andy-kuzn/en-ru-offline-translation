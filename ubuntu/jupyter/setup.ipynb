{
 "cells": [
  {
   "cell_type": "code",
   "execution_count": 1,
   "metadata": {},
   "outputs": [
    {
     "name": "stdout",
     "output_type": "stream",
     "text": [
      "Requirement already satisfied: sounddevice==0.4.6 in ./.venv/lib/python3.10/site-packages (0.4.6)\n",
      "Requirement already satisfied: CFFI>=1.0 in ./.venv/lib/python3.10/site-packages (from sounddevice==0.4.6) (1.16.0)\n",
      "Requirement already satisfied: pycparser in ./.venv/lib/python3.10/site-packages (from CFFI>=1.0->sounddevice==0.4.6) (2.22)\n",
      "Note: you may need to restart the kernel to use updated packages.\n",
      "Requirement already satisfied: scipy==1.13.0 in ./.venv/lib/python3.10/site-packages (1.13.0)\n",
      "Requirement already satisfied: numpy<2.3,>=1.22.4 in ./.venv/lib/python3.10/site-packages (from scipy==1.13.0) (1.26.4)\n",
      "Note: you may need to restart the kernel to use updated packages.\n",
      "Collecting git+https://github.com/openai/whisper.git\n",
      "  Cloning https://github.com/openai/whisper.git to /tmp/pip-req-build-y9u0zecd\n",
      "  Running command git clone --filter=blob:none --quiet https://github.com/openai/whisper.git /tmp/pip-req-build-y9u0zecd\n",
      "  Resolved https://github.com/openai/whisper.git to commit ba3f3cd54b0e5b8ce1ab3de13e32122d0d5f98ab\n",
      "  Installing build dependencies ... \u001b[?25ldone\n",
      "\u001b[?25h  Getting requirements to build wheel ... \u001b[?25ldone\n",
      "\u001b[?25h  Installing backend dependencies ... \u001b[?25ldone\n",
      "\u001b[?25h  Preparing metadata (pyproject.toml) ... \u001b[?25ldone\n",
      "\u001b[?25hRequirement already satisfied: numba in ./.venv/lib/python3.10/site-packages (from openai-whisper==20231117) (0.59.1)\n",
      "Requirement already satisfied: numpy in ./.venv/lib/python3.10/site-packages (from openai-whisper==20231117) (1.26.4)\n",
      "Requirement already satisfied: torch in ./.venv/lib/python3.10/site-packages (from openai-whisper==20231117) (2.2.2)\n",
      "Requirement already satisfied: tqdm in ./.venv/lib/python3.10/site-packages (from openai-whisper==20231117) (4.66.4)\n",
      "Requirement already satisfied: more-itertools in ./.venv/lib/python3.10/site-packages (from openai-whisper==20231117) (10.2.0)\n",
      "Requirement already satisfied: tiktoken in ./.venv/lib/python3.10/site-packages (from openai-whisper==20231117) (0.6.0)\n",
      "Requirement already satisfied: triton<3,>=2.0.0 in ./.venv/lib/python3.10/site-packages (from openai-whisper==20231117) (2.2.0)\n",
      "Requirement already satisfied: filelock in ./.venv/lib/python3.10/site-packages (from triton<3,>=2.0.0->openai-whisper==20231117) (3.14.0)\n",
      "Requirement already satisfied: llvmlite<0.43,>=0.42.0dev0 in ./.venv/lib/python3.10/site-packages (from numba->openai-whisper==20231117) (0.42.0)\n",
      "Requirement already satisfied: regex>=2022.1.18 in ./.venv/lib/python3.10/site-packages (from tiktoken->openai-whisper==20231117) (2024.4.28)\n",
      "Requirement already satisfied: requests>=2.26.0 in ./.venv/lib/python3.10/site-packages (from tiktoken->openai-whisper==20231117) (2.31.0)\n",
      "Requirement already satisfied: typing-extensions>=4.8.0 in ./.venv/lib/python3.10/site-packages (from torch->openai-whisper==20231117) (4.11.0)\n",
      "Requirement already satisfied: sympy in ./.venv/lib/python3.10/site-packages (from torch->openai-whisper==20231117) (1.12)\n",
      "Requirement already satisfied: networkx in ./.venv/lib/python3.10/site-packages (from torch->openai-whisper==20231117) (3.3)\n",
      "Requirement already satisfied: jinja2 in ./.venv/lib/python3.10/site-packages (from torch->openai-whisper==20231117) (3.1.3)\n",
      "Requirement already satisfied: fsspec in ./.venv/lib/python3.10/site-packages (from torch->openai-whisper==20231117) (2024.3.1)\n",
      "Requirement already satisfied: nvidia-cuda-nvrtc-cu12==12.1.105 in ./.venv/lib/python3.10/site-packages (from torch->openai-whisper==20231117) (12.1.105)\n",
      "Requirement already satisfied: nvidia-cuda-runtime-cu12==12.1.105 in ./.venv/lib/python3.10/site-packages (from torch->openai-whisper==20231117) (12.1.105)\n",
      "Requirement already satisfied: nvidia-cuda-cupti-cu12==12.1.105 in ./.venv/lib/python3.10/site-packages (from torch->openai-whisper==20231117) (12.1.105)\n",
      "Requirement already satisfied: nvidia-cudnn-cu12==8.9.2.26 in ./.venv/lib/python3.10/site-packages (from torch->openai-whisper==20231117) (8.9.2.26)\n",
      "Requirement already satisfied: nvidia-cublas-cu12==12.1.3.1 in ./.venv/lib/python3.10/site-packages (from torch->openai-whisper==20231117) (12.1.3.1)\n",
      "Requirement already satisfied: nvidia-cufft-cu12==11.0.2.54 in ./.venv/lib/python3.10/site-packages (from torch->openai-whisper==20231117) (11.0.2.54)\n",
      "Requirement already satisfied: nvidia-curand-cu12==10.3.2.106 in ./.venv/lib/python3.10/site-packages (from torch->openai-whisper==20231117) (10.3.2.106)\n",
      "Requirement already satisfied: nvidia-cusolver-cu12==11.4.5.107 in ./.venv/lib/python3.10/site-packages (from torch->openai-whisper==20231117) (11.4.5.107)\n",
      "Requirement already satisfied: nvidia-cusparse-cu12==12.1.0.106 in ./.venv/lib/python3.10/site-packages (from torch->openai-whisper==20231117) (12.1.0.106)\n",
      "Requirement already satisfied: nvidia-nccl-cu12==2.19.3 in ./.venv/lib/python3.10/site-packages (from torch->openai-whisper==20231117) (2.19.3)\n",
      "Requirement already satisfied: nvidia-nvtx-cu12==12.1.105 in ./.venv/lib/python3.10/site-packages (from torch->openai-whisper==20231117) (12.1.105)\n",
      "Requirement already satisfied: nvidia-nvjitlink-cu12 in ./.venv/lib/python3.10/site-packages (from nvidia-cusolver-cu12==11.4.5.107->torch->openai-whisper==20231117) (12.4.127)\n",
      "Requirement already satisfied: charset-normalizer<4,>=2 in ./.venv/lib/python3.10/site-packages (from requests>=2.26.0->tiktoken->openai-whisper==20231117) (3.3.2)\n",
      "Requirement already satisfied: idna<4,>=2.5 in ./.venv/lib/python3.10/site-packages (from requests>=2.26.0->tiktoken->openai-whisper==20231117) (3.7)\n",
      "Requirement already satisfied: urllib3<3,>=1.21.1 in ./.venv/lib/python3.10/site-packages (from requests>=2.26.0->tiktoken->openai-whisper==20231117) (2.2.1)\n",
      "Requirement already satisfied: certifi>=2017.4.17 in ./.venv/lib/python3.10/site-packages (from requests>=2.26.0->tiktoken->openai-whisper==20231117) (2024.2.2)\n",
      "Requirement already satisfied: MarkupSafe>=2.0 in ./.venv/lib/python3.10/site-packages (from jinja2->torch->openai-whisper==20231117) (2.1.5)\n",
      "Requirement already satisfied: mpmath>=0.19 in ./.venv/lib/python3.10/site-packages (from sympy->torch->openai-whisper==20231117) (1.3.0)\n",
      "Note: you may need to restart the kernel to use updated packages.\n",
      "Requirement already satisfied: transformers==4.40.1 in ./.venv/lib/python3.10/site-packages (4.40.1)\n",
      "Requirement already satisfied: filelock in ./.venv/lib/python3.10/site-packages (from transformers==4.40.1) (3.14.0)\n",
      "Requirement already satisfied: huggingface-hub<1.0,>=0.19.3 in ./.venv/lib/python3.10/site-packages (from transformers==4.40.1) (0.20.3)\n",
      "Requirement already satisfied: numpy>=1.17 in ./.venv/lib/python3.10/site-packages (from transformers==4.40.1) (1.26.4)\n",
      "Requirement already satisfied: packaging>=20.0 in ./.venv/lib/python3.10/site-packages (from transformers==4.40.1) (24.0)\n",
      "Requirement already satisfied: pyyaml>=5.1 in ./.venv/lib/python3.10/site-packages (from transformers==4.40.1) (6.0.1)\n",
      "Requirement already satisfied: regex!=2019.12.17 in ./.venv/lib/python3.10/site-packages (from transformers==4.40.1) (2024.4.28)\n",
      "Requirement already satisfied: requests in ./.venv/lib/python3.10/site-packages (from transformers==4.40.1) (2.31.0)\n",
      "Requirement already satisfied: tokenizers<0.20,>=0.19 in ./.venv/lib/python3.10/site-packages (from transformers==4.40.1) (0.19.1)\n",
      "Requirement already satisfied: safetensors>=0.4.1 in ./.venv/lib/python3.10/site-packages (from transformers==4.40.1) (0.4.3)\n",
      "Requirement already satisfied: tqdm>=4.27 in ./.venv/lib/python3.10/site-packages (from transformers==4.40.1) (4.66.4)\n",
      "Requirement already satisfied: fsspec>=2023.5.0 in ./.venv/lib/python3.10/site-packages (from huggingface-hub<1.0,>=0.19.3->transformers==4.40.1) (2024.3.1)\n",
      "Requirement already satisfied: typing-extensions>=3.7.4.3 in ./.venv/lib/python3.10/site-packages (from huggingface-hub<1.0,>=0.19.3->transformers==4.40.1) (4.11.0)\n",
      "Requirement already satisfied: charset-normalizer<4,>=2 in ./.venv/lib/python3.10/site-packages (from requests->transformers==4.40.1) (3.3.2)\n",
      "Requirement already satisfied: idna<4,>=2.5 in ./.venv/lib/python3.10/site-packages (from requests->transformers==4.40.1) (3.7)\n",
      "Requirement already satisfied: urllib3<3,>=1.21.1 in ./.venv/lib/python3.10/site-packages (from requests->transformers==4.40.1) (2.2.1)\n",
      "Requirement already satisfied: certifi>=2017.4.17 in ./.venv/lib/python3.10/site-packages (from requests->transformers==4.40.1) (2024.2.2)\n",
      "Note: you may need to restart the kernel to use updated packages.\n",
      "Requirement already satisfied: sentencepiece==0.2.0 in ./.venv/lib/python3.10/site-packages (0.2.0)\n",
      "Note: you may need to restart the kernel to use updated packages.\n",
      "Requirement already satisfied: sacremoses==0.1.1 in ./.venv/lib/python3.10/site-packages (0.1.1)\n",
      "Requirement already satisfied: regex in ./.venv/lib/python3.10/site-packages (from sacremoses==0.1.1) (2024.4.28)\n",
      "Requirement already satisfied: click in ./.venv/lib/python3.10/site-packages (from sacremoses==0.1.1) (8.1.7)\n",
      "Requirement already satisfied: joblib in ./.venv/lib/python3.10/site-packages (from sacremoses==0.1.1) (1.4.2)\n",
      "Requirement already satisfied: tqdm in ./.venv/lib/python3.10/site-packages (from sacremoses==0.1.1) (4.66.4)\n",
      "Note: you may need to restart the kernel to use updated packages.\n",
      "Requirement already satisfied: torch==2.2.2 in ./.venv/lib/python3.10/site-packages (2.2.2)\n",
      "Requirement already satisfied: filelock in ./.venv/lib/python3.10/site-packages (from torch==2.2.2) (3.14.0)\n",
      "Requirement already satisfied: typing-extensions>=4.8.0 in ./.venv/lib/python3.10/site-packages (from torch==2.2.2) (4.11.0)\n",
      "Requirement already satisfied: sympy in ./.venv/lib/python3.10/site-packages (from torch==2.2.2) (1.12)\n",
      "Requirement already satisfied: networkx in ./.venv/lib/python3.10/site-packages (from torch==2.2.2) (3.3)\n",
      "Requirement already satisfied: jinja2 in ./.venv/lib/python3.10/site-packages (from torch==2.2.2) (3.1.3)\n",
      "Requirement already satisfied: fsspec in ./.venv/lib/python3.10/site-packages (from torch==2.2.2) (2024.3.1)\n",
      "Requirement already satisfied: nvidia-cuda-nvrtc-cu12==12.1.105 in ./.venv/lib/python3.10/site-packages (from torch==2.2.2) (12.1.105)\n",
      "Requirement already satisfied: nvidia-cuda-runtime-cu12==12.1.105 in ./.venv/lib/python3.10/site-packages (from torch==2.2.2) (12.1.105)\n",
      "Requirement already satisfied: nvidia-cuda-cupti-cu12==12.1.105 in ./.venv/lib/python3.10/site-packages (from torch==2.2.2) (12.1.105)\n",
      "Requirement already satisfied: nvidia-cudnn-cu12==8.9.2.26 in ./.venv/lib/python3.10/site-packages (from torch==2.2.2) (8.9.2.26)\n",
      "Requirement already satisfied: nvidia-cublas-cu12==12.1.3.1 in ./.venv/lib/python3.10/site-packages (from torch==2.2.2) (12.1.3.1)\n",
      "Requirement already satisfied: nvidia-cufft-cu12==11.0.2.54 in ./.venv/lib/python3.10/site-packages (from torch==2.2.2) (11.0.2.54)\n",
      "Requirement already satisfied: nvidia-curand-cu12==10.3.2.106 in ./.venv/lib/python3.10/site-packages (from torch==2.2.2) (10.3.2.106)\n",
      "Requirement already satisfied: nvidia-cusolver-cu12==11.4.5.107 in ./.venv/lib/python3.10/site-packages (from torch==2.2.2) (11.4.5.107)\n",
      "Requirement already satisfied: nvidia-cusparse-cu12==12.1.0.106 in ./.venv/lib/python3.10/site-packages (from torch==2.2.2) (12.1.0.106)\n",
      "Requirement already satisfied: nvidia-nccl-cu12==2.19.3 in ./.venv/lib/python3.10/site-packages (from torch==2.2.2) (2.19.3)\n",
      "Requirement already satisfied: nvidia-nvtx-cu12==12.1.105 in ./.venv/lib/python3.10/site-packages (from torch==2.2.2) (12.1.105)\n",
      "Requirement already satisfied: triton==2.2.0 in ./.venv/lib/python3.10/site-packages (from torch==2.2.2) (2.2.0)\n",
      "Requirement already satisfied: nvidia-nvjitlink-cu12 in ./.venv/lib/python3.10/site-packages (from nvidia-cusolver-cu12==11.4.5.107->torch==2.2.2) (12.4.127)\n",
      "Requirement already satisfied: MarkupSafe>=2.0 in ./.venv/lib/python3.10/site-packages (from jinja2->torch==2.2.2) (2.1.5)\n",
      "Requirement already satisfied: mpmath>=0.19 in ./.venv/lib/python3.10/site-packages (from sympy->torch==2.2.2) (1.3.0)\n",
      "Note: you may need to restart the kernel to use updated packages.\n",
      "Requirement already satisfied: torchaudio==2.2.2 in ./.venv/lib/python3.10/site-packages (2.2.2)\n",
      "Requirement already satisfied: torch==2.2.2 in ./.venv/lib/python3.10/site-packages (from torchaudio==2.2.2) (2.2.2)\n",
      "Requirement already satisfied: filelock in ./.venv/lib/python3.10/site-packages (from torch==2.2.2->torchaudio==2.2.2) (3.14.0)\n",
      "Requirement already satisfied: typing-extensions>=4.8.0 in ./.venv/lib/python3.10/site-packages (from torch==2.2.2->torchaudio==2.2.2) (4.11.0)\n",
      "Requirement already satisfied: sympy in ./.venv/lib/python3.10/site-packages (from torch==2.2.2->torchaudio==2.2.2) (1.12)\n",
      "Requirement already satisfied: networkx in ./.venv/lib/python3.10/site-packages (from torch==2.2.2->torchaudio==2.2.2) (3.3)\n",
      "Requirement already satisfied: jinja2 in ./.venv/lib/python3.10/site-packages (from torch==2.2.2->torchaudio==2.2.2) (3.1.3)\n",
      "Requirement already satisfied: fsspec in ./.venv/lib/python3.10/site-packages (from torch==2.2.2->torchaudio==2.2.2) (2024.3.1)\n",
      "Requirement already satisfied: nvidia-cuda-nvrtc-cu12==12.1.105 in ./.venv/lib/python3.10/site-packages (from torch==2.2.2->torchaudio==2.2.2) (12.1.105)\n",
      "Requirement already satisfied: nvidia-cuda-runtime-cu12==12.1.105 in ./.venv/lib/python3.10/site-packages (from torch==2.2.2->torchaudio==2.2.2) (12.1.105)\n",
      "Requirement already satisfied: nvidia-cuda-cupti-cu12==12.1.105 in ./.venv/lib/python3.10/site-packages (from torch==2.2.2->torchaudio==2.2.2) (12.1.105)\n",
      "Requirement already satisfied: nvidia-cudnn-cu12==8.9.2.26 in ./.venv/lib/python3.10/site-packages (from torch==2.2.2->torchaudio==2.2.2) (8.9.2.26)\n",
      "Requirement already satisfied: nvidia-cublas-cu12==12.1.3.1 in ./.venv/lib/python3.10/site-packages (from torch==2.2.2->torchaudio==2.2.2) (12.1.3.1)\n",
      "Requirement already satisfied: nvidia-cufft-cu12==11.0.2.54 in ./.venv/lib/python3.10/site-packages (from torch==2.2.2->torchaudio==2.2.2) (11.0.2.54)\n",
      "Requirement already satisfied: nvidia-curand-cu12==10.3.2.106 in ./.venv/lib/python3.10/site-packages (from torch==2.2.2->torchaudio==2.2.2) (10.3.2.106)\n",
      "Requirement already satisfied: nvidia-cusolver-cu12==11.4.5.107 in ./.venv/lib/python3.10/site-packages (from torch==2.2.2->torchaudio==2.2.2) (11.4.5.107)\n",
      "Requirement already satisfied: nvidia-cusparse-cu12==12.1.0.106 in ./.venv/lib/python3.10/site-packages (from torch==2.2.2->torchaudio==2.2.2) (12.1.0.106)\n",
      "Requirement already satisfied: nvidia-nccl-cu12==2.19.3 in ./.venv/lib/python3.10/site-packages (from torch==2.2.2->torchaudio==2.2.2) (2.19.3)\n",
      "Requirement already satisfied: nvidia-nvtx-cu12==12.1.105 in ./.venv/lib/python3.10/site-packages (from torch==2.2.2->torchaudio==2.2.2) (12.1.105)\n",
      "Requirement already satisfied: triton==2.2.0 in ./.venv/lib/python3.10/site-packages (from torch==2.2.2->torchaudio==2.2.2) (2.2.0)\n",
      "Requirement already satisfied: nvidia-nvjitlink-cu12 in ./.venv/lib/python3.10/site-packages (from nvidia-cusolver-cu12==11.4.5.107->torch==2.2.2->torchaudio==2.2.2) (12.4.127)\n",
      "Requirement already satisfied: MarkupSafe>=2.0 in ./.venv/lib/python3.10/site-packages (from jinja2->torch==2.2.2->torchaudio==2.2.2) (2.1.5)\n",
      "Requirement already satisfied: mpmath>=0.19 in ./.venv/lib/python3.10/site-packages (from sympy->torch==2.2.2->torchaudio==2.2.2) (1.3.0)\n",
      "Note: you may need to restart the kernel to use updated packages.\n",
      "Requirement already satisfied: ipywidgets in ./.venv/lib/python3.10/site-packages (8.1.2)\n",
      "Requirement already satisfied: comm>=0.1.3 in ./.venv/lib/python3.10/site-packages (from ipywidgets) (0.2.2)\n",
      "Requirement already satisfied: ipython>=6.1.0 in ./.venv/lib/python3.10/site-packages (from ipywidgets) (8.24.0)\n",
      "Requirement already satisfied: traitlets>=4.3.1 in ./.venv/lib/python3.10/site-packages (from ipywidgets) (5.14.3)\n",
      "Requirement already satisfied: widgetsnbextension~=4.0.10 in ./.venv/lib/python3.10/site-packages (from ipywidgets) (4.0.10)\n",
      "Requirement already satisfied: jupyterlab-widgets~=3.0.10 in ./.venv/lib/python3.10/site-packages (from ipywidgets) (3.0.10)\n",
      "Requirement already satisfied: decorator in ./.venv/lib/python3.10/site-packages (from ipython>=6.1.0->ipywidgets) (5.1.1)\n",
      "Requirement already satisfied: jedi>=0.16 in ./.venv/lib/python3.10/site-packages (from ipython>=6.1.0->ipywidgets) (0.19.1)\n",
      "Requirement already satisfied: matplotlib-inline in ./.venv/lib/python3.10/site-packages (from ipython>=6.1.0->ipywidgets) (0.1.7)\n",
      "Requirement already satisfied: prompt-toolkit<3.1.0,>=3.0.41 in ./.venv/lib/python3.10/site-packages (from ipython>=6.1.0->ipywidgets) (3.0.43)\n",
      "Requirement already satisfied: pygments>=2.4.0 in ./.venv/lib/python3.10/site-packages (from ipython>=6.1.0->ipywidgets) (2.18.0)\n",
      "Requirement already satisfied: stack-data in ./.venv/lib/python3.10/site-packages (from ipython>=6.1.0->ipywidgets) (0.6.3)\n",
      "Requirement already satisfied: exceptiongroup in ./.venv/lib/python3.10/site-packages (from ipython>=6.1.0->ipywidgets) (1.2.1)\n",
      "Requirement already satisfied: typing-extensions>=4.6 in ./.venv/lib/python3.10/site-packages (from ipython>=6.1.0->ipywidgets) (4.11.0)\n",
      "Requirement already satisfied: pexpect>4.3 in ./.venv/lib/python3.10/site-packages (from ipython>=6.1.0->ipywidgets) (4.9.0)\n",
      "Requirement already satisfied: parso<0.9.0,>=0.8.3 in ./.venv/lib/python3.10/site-packages (from jedi>=0.16->ipython>=6.1.0->ipywidgets) (0.8.4)\n",
      "Requirement already satisfied: ptyprocess>=0.5 in ./.venv/lib/python3.10/site-packages (from pexpect>4.3->ipython>=6.1.0->ipywidgets) (0.7.0)\n",
      "Requirement already satisfied: wcwidth in ./.venv/lib/python3.10/site-packages (from prompt-toolkit<3.1.0,>=3.0.41->ipython>=6.1.0->ipywidgets) (0.2.13)\n",
      "Requirement already satisfied: executing>=1.2.0 in ./.venv/lib/python3.10/site-packages (from stack-data->ipython>=6.1.0->ipywidgets) (2.0.1)\n",
      "Requirement already satisfied: asttokens>=2.1.0 in ./.venv/lib/python3.10/site-packages (from stack-data->ipython>=6.1.0->ipywidgets) (2.4.1)\n",
      "Requirement already satisfied: pure-eval in ./.venv/lib/python3.10/site-packages (from stack-data->ipython>=6.1.0->ipywidgets) (0.2.2)\n",
      "Requirement already satisfied: six>=1.12.0 in ./.venv/lib/python3.10/site-packages (from asttokens>=2.1.0->stack-data->ipython>=6.1.0->ipywidgets) (1.16.0)\n",
      "Note: you may need to restart the kernel to use updated packages.\n",
      "Requirement already satisfied: huggingface-hub==0.20.3 in ./.venv/lib/python3.10/site-packages (0.20.3)\n",
      "Requirement already satisfied: filelock in ./.venv/lib/python3.10/site-packages (from huggingface-hub==0.20.3) (3.14.0)\n",
      "Requirement already satisfied: fsspec>=2023.5.0 in ./.venv/lib/python3.10/site-packages (from huggingface-hub==0.20.3) (2024.3.1)\n",
      "Requirement already satisfied: requests in ./.venv/lib/python3.10/site-packages (from huggingface-hub==0.20.3) (2.31.0)\n",
      "Requirement already satisfied: tqdm>=4.42.1 in ./.venv/lib/python3.10/site-packages (from huggingface-hub==0.20.3) (4.66.4)\n",
      "Requirement already satisfied: pyyaml>=5.1 in ./.venv/lib/python3.10/site-packages (from huggingface-hub==0.20.3) (6.0.1)\n",
      "Requirement already satisfied: typing-extensions>=3.7.4.3 in ./.venv/lib/python3.10/site-packages (from huggingface-hub==0.20.3) (4.11.0)\n",
      "Requirement already satisfied: packaging>=20.9 in ./.venv/lib/python3.10/site-packages (from huggingface-hub==0.20.3) (24.0)\n",
      "Requirement already satisfied: charset-normalizer<4,>=2 in ./.venv/lib/python3.10/site-packages (from requests->huggingface-hub==0.20.3) (3.3.2)\n",
      "Requirement already satisfied: idna<4,>=2.5 in ./.venv/lib/python3.10/site-packages (from requests->huggingface-hub==0.20.3) (3.7)\n",
      "Requirement already satisfied: urllib3<3,>=1.21.1 in ./.venv/lib/python3.10/site-packages (from requests->huggingface-hub==0.20.3) (2.2.1)\n",
      "Requirement already satisfied: certifi>=2017.4.17 in ./.venv/lib/python3.10/site-packages (from requests->huggingface-hub==0.20.3) (2024.2.2)\n",
      "Note: you may need to restart the kernel to use updated packages.\n"
     ]
    }
   ],
   "source": [
    "# Установка библиотек и зависимостей в вирутуальную среду\n",
    "%pip install sounddevice==0.4.6\n",
    "%pip install scipy==1.13.0\n",
    "%pip install git+https://github.com/openai/whisper.git\n",
    "%pip install transformers==4.40.1\n",
    "%pip install sentencepiece==0.2.0\n",
    "%pip install sacremoses==0.1.1\n",
    "%pip install torch==2.2.2\n",
    "%pip install torchaudio==2.2.2\n",
    "%pip install ipywidgets\n",
    "%pip install huggingface-hub==0.20.3"
   ]
  },
  {
   "cell_type": "code",
   "execution_count": 3,
   "metadata": {},
   "outputs": [],
   "source": [
    "# Импорт библиотек\n",
    "import subprocess\n",
    "import configparser\n",
    "\n",
    "# Импорт функции воспроизведения речи \n",
    "from scripts.tts import text_to_speech"
   ]
  },
  {
   "cell_type": "markdown",
   "metadata": {},
   "source": [
    "#### Настройка \"голосов\""
   ]
  },
  {
   "cell_type": "code",
   "execution_count": 1,
   "metadata": {},
   "outputs": [],
   "source": [
    "# Введите свой пароль для sudo в окне, которое появится вверху экрана.\n",
    "password = input(\"Введите свой пароль для sudo\")"
   ]
  },
  {
   "cell_type": "code",
   "execution_count": 11,
   "metadata": {},
   "outputs": [
    {
     "name": "stderr",
     "output_type": "stream",
     "text": [
      "[sudo] password for parallels: "
     ]
    },
    {
     "name": "stdout",
     "output_type": "stream",
     "text": [
      "Пароль уже был введен.\n",
      "Все доступные голоса: ['Radek (čeština)', 'Zdenek (čeština)', 'Alan (English)', 'Ksp (English)', 'Evgeniy-Eng (English)', 'Lyubov (English)', 'BDL (English)', 'CLB (English)', 'SLT (English)', 'Spomenka (esperanto)', 'Natia (ქართული)', 'Azamat (кыргызча)', 'Nazgul (кыргызча)', 'Kiko (македонски)', 'Suze (македонски)', 'Dina (नेपाली)', 'Alicja (polski)', 'Cezary (polski)', 'Magda (polski)', 'Michal (polski)', 'Natan (polski)', 'Letícia-F123 (português)', 'Aleksandr (русский)', 'Aleksandr-hq (русский)', 'Anna (русский)', 'Arina (русский)', 'Artemiy (русский)', 'Elena (русский)', 'Evgeniy-Rus (русский)', 'Irina (русский)', 'Mikhail (русский)', 'Pavel (русский)', 'Tatiana (русский)', 'Timofey (русский)', 'Umka (русский)', 'Victoria (русский)', 'Vitaliy (русский)', 'Vitaliy-ng (русский)', 'Vsevolod (русский)', 'Yuriy (русский)', 'Ondro (slovenčina)', 'Hana (shqip)', 'Dragana (српски)', 'Talgat (татар)', 'Dünýä (türkmen dili)', 'Anatol (українська)', 'Marianna (українська)', 'Natalia (українська)', 'Volodymyr (українська)', 'Dilnavoz (o‘zbek)', 'Islom (o‘zbek)', 'Sevinch (o‘zbek)', '']\n"
     ]
    }
   ],
   "source": [
    "# Сгенерируем список всех \"голосов\", которые могут быть установлены.\n",
    "subprocess.call(\"echo \"+password+ \"| sudo -S rhvoice.vm -a > voices.txt\",\n",
    "                        shell=True)\n",
    "voices_file = open(\"voices.txt\", \"r\")\n",
    "voices_list = voices_file.read().split(\"\\n\")\n",
    "voices_file.close()\n",
    "print(\"Пароль уже был введен.\")\n",
    "print(\"Все доступные голоса:\", voices_list)"
   ]
  },
  {
   "cell_type": "code",
   "execution_count": 12,
   "metadata": {},
   "outputs": [
    {
     "name": "stdout",
     "output_type": "stream",
     "text": [
      "Русские голоса:  ['Aleksandr', 'Aleksandr-hq', 'Anna', 'Arina', 'Artemiy', 'Elena', 'Evgeniy-Rus', 'Irina', 'Mikhail', 'Pavel', 'Tatiana', 'Timofey', 'Umka', 'Victoria', 'Vitaliy', 'Vitaliy-ng', 'Vsevolod', 'Yuriy']\n"
     ]
    }
   ],
   "source": [
    "# Из полученного общего списка сформируем список всех доступных\n",
    "# русских и английских \"голосов\".\n",
    "ru_voices = []\n",
    "en_voices = []\n",
    "for voicename in voices_list:\n",
    "    if \"русский\" in voicename:\n",
    "        voicename = voicename.replace(\" (русский)\", \"\")\n",
    "        ru_voices.append(voicename)\n",
    "    elif \"English\" in voicename:\n",
    "        voicename = voicename.replace(\" (English)\", \"\")\n",
    "        en_voices.append(voicename)\n",
    "    else:\n",
    "        continue\n",
    "\n",
    "# Выведем список всех доступных русских \"голосов\".      \n",
    "print(\"Русские голоса: \", ru_voices)"
   ]
  },
  {
   "cell_type": "code",
   "execution_count": 13,
   "metadata": {},
   "outputs": [
    {
     "name": "stdout",
     "output_type": "stream",
     "text": [
      "Английские голоса:  ['Alan', 'Ksp', 'Evgeniy-Eng', 'Lyubov', 'BDL', 'CLB', 'SLT']\n"
     ]
    }
   ],
   "source": [
    "# Выведем список всех доступных английских голосов.\n",
    "print(\"Английские голоса: \", en_voices)"
   ]
  },
  {
   "cell_type": "code",
   "execution_count": 21,
   "metadata": {},
   "outputs": [
    {
     "name": "stderr",
     "output_type": "stream",
     "text": [
      "[sudo] password for parallels: "
     ]
    },
    {
     "name": "stdout",
     "output_type": "stream",
     "text": [
      "Alan\n",
      "Aleksandr\n",
      "(Пароль уже был введен.)\n"
     ]
    }
   ],
   "source": [
    "# Также проверим, какие \"голоса\" уже были были установлены.\n",
    "subprocess.call(\"echo \"+password+ \"| sudo -S rhvoice.vm -l\",\n",
    "                shell=True)\n",
    "print(\"(Пароль уже был введен.)\")"
   ]
  },
  {
   "cell_type": "code",
   "execution_count": 22,
   "metadata": {},
   "outputs": [
    {
     "name": "stderr",
     "output_type": "stream",
     "text": [
      "[sudo] password for parallels: "
     ]
    },
    {
     "name": "stdout",
     "output_type": "stream",
     "text": [
      "Already installed\n",
      "(Пароль уже был введен.)\n"
     ]
    }
   ],
   "source": [
    "# Выбираем русский \"голос\" из списка доступных \"голосов\",\n",
    "# например, Aleksandr.\n",
    "# (Вводим значение индекса в окне, которое появится вверху экрана.)\n",
    "# Если он еще не был установлен, он будет установлен сейчас.\n",
    "ru_voice_name = input(\"Введите имя выбранного русского голоса\")\n",
    "# Устанавливаем русский \"голос\", исходя из выбранного имени.\n",
    "if ru_voice_name in ru_voices:\n",
    "    subprocess.call(\"echo \"+password+ \"| sudo -S rhvoice.vm -i \"+ru_voice_name,\n",
    "                    shell=True)\n",
    "    print(\"(Пароль уже был введен.)\")\n",
    "else:\n",
    "    print(\"Введено некорректное имя.\")\n",
    "    print(\"Попробуйте еще раз.\")"
   ]
  },
  {
   "cell_type": "code",
   "execution_count": 23,
   "metadata": {},
   "outputs": [
    {
     "name": "stdout",
     "output_type": "stream",
     "text": [
      "Русский голос: Aleksandr\n"
     ]
    }
   ],
   "source": [
    "# Проверка русского \"голоса\" RHVoice\n",
    "text = \"Проверим, как звучит этот голос\"\n",
    "voice = ru_voice_name\n",
    "print(\"Русский голос:\", voice)\n",
    "text_to_speech(text, voice)"
   ]
  },
  {
   "cell_type": "code",
   "execution_count": 25,
   "metadata": {},
   "outputs": [
    {
     "name": "stderr",
     "output_type": "stream",
     "text": [
      "[sudo] password for parallels: "
     ]
    },
    {
     "name": "stdout",
     "output_type": "stream",
     "text": [
      "Already installed\n",
      "(Пароль уже был введен.)\n"
     ]
    }
   ],
   "source": [
    "# Выбираем английский \"голос\" из списка доступных \"голосов\",\n",
    "# например, Alan.\n",
    "# (Вводим значение индекса в окне, которое появится вверху экрана.)\n",
    "# Если он еще не был установлен, он будет установлен сейчас.\n",
    "en_voice_name = input(\"Введите имя выбранного английского голоса\")\n",
    "# Устанавливаем английский \"голос\", исходя из выбранного имени.\n",
    "if en_voice_name in en_voices:\n",
    "    subprocess.call(\"echo \"+password+ \"| sudo -S rhvoice.vm -i \"+en_voice_name,\n",
    "                    shell=True)\n",
    "    print(\"(Пароль уже был введен.)\")\n",
    "else:\n",
    "    print(\"Введено некорректное имя.\")\n",
    "    print(\"Попробуйте еще раз.\")"
   ]
  },
  {
   "cell_type": "code",
   "execution_count": 26,
   "metadata": {},
   "outputs": [
    {
     "name": "stdout",
     "output_type": "stream",
     "text": [
      "Английский голос: Alan\n"
     ]
    }
   ],
   "source": [
    "# Проверка английского \"голоса\" RHVoice\n",
    "text = \"Let's test how this voice sounds\"\n",
    "text = text.replace(\"'\", \"\")\n",
    "voice = en_voice_name\n",
    "print(\"Английский голос:\", voice)\n",
    "text_to_speech(text, voice)"
   ]
  },
  {
   "cell_type": "code",
   "execution_count": 27,
   "metadata": {},
   "outputs": [],
   "source": [
    "# Запись имен выбранных \"голосов\" в конфигурационный  файл.\n",
    "config = configparser.ConfigParser()\n",
    "\n",
    "config['Voices'] = {'ru_voice_name': ru_voice_name,\n",
    "                    'en_voice_name': en_voice_name}\n",
    "\n",
    "with open('config.ini', 'w') as configfile:\n",
    "   config.write(configfile)"
   ]
  }
 ],
 "metadata": {
  "kernelspec": {
   "display_name": "Python 3",
   "language": "python",
   "name": "python3"
  },
  "language_info": {
   "codemirror_mode": {
    "name": "ipython",
    "version": 3
   },
   "file_extension": ".py",
   "mimetype": "text/x-python",
   "name": "python",
   "nbconvert_exporter": "python",
   "pygments_lexer": "ipython3",
   "version": "3.10.12"
  }
 },
 "nbformat": 4,
 "nbformat_minor": 2
}
