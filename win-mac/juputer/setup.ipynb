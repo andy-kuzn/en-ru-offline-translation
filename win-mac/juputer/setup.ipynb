{
 "cells": [
  {
   "cell_type": "markdown",
   "metadata": {},
   "source": [
    "# Установка библиотек и зависимостей в вирутуальную среду\n",
    "%pip install -r requirements.txt"
   ]
  },
  {
   "cell_type": "code",
   "execution_count": null,
   "metadata": {},
   "outputs": [],
   "source": [
    "# Установка библиотек и зависимостей в вирутуальную среду\n",
    "%pip install sounddevice==0.4.6\n",
    "%pip install scipy==1.13.0\n",
    "%pip install git+https://github.com/openai/whisper.git\n",
    "%pip install transformers==4.40.1\n",
    "%pip install sentencepiece==0.2.0\n",
    "%pip install sacremoses==0.1.1\n",
    "%pip install torch==2.2.2\n",
    "%pip install torchaudio==2.2.2\n",
    "%pip install py3-tts==3.5\n",
    "%pip install ipywidgets\n",
    "%pip install huggingface-hub==0.20.3"
   ]
  },
  {
   "cell_type": "code",
   "execution_count": null,
   "metadata": {},
   "outputs": [],
   "source": [
    "# Импорт библиотек\n",
    "import os\n",
    "import pyttsx3 # type: ignore\n",
    "import configparser\n",
    "\n",
    "# Импорт функции воспроизведения речи \n",
    "from scripts.tts import text_to_speech"
   ]
  },
  {
   "cell_type": "markdown",
   "metadata": {},
   "source": [
    "#### Настройка \"голосов\""
   ]
  },
  {
   "cell_type": "code",
   "execution_count": null,
   "metadata": {},
   "outputs": [],
   "source": [
    "# Определяем операционную систему хоста и устанавливаем\n",
    "# соответствующие значения переменных для поиска \"голосов\".\n",
    "if os.name == 'nt': # Если Windows\n",
    "    ru_code = 'RU'\n",
    "    en_code = 'EN'\n",
    "    print(\"Операционная система: Windows\")\n",
    "elif os.name == 'posix': # Если MacOS\n",
    "    ru_code = 'ru'\n",
    "    en_code = 'en-'\n",
    "    print(\"Операционная система: MacOS\")\n",
    "else:\n",
    "    print(\"Эта операционная система не поддерживается\")"
   ]
  },
  {
   "cell_type": "code",
   "execution_count": null,
   "metadata": {},
   "outputs": [],
   "source": [
    "# Инициализация текстового инетерпретатора \n",
    "engine = pyttsx3.init()\n",
    "# Определяем, какие русские \"голоса\" установлены в операционной системе.\n",
    "voices = engine.getProperty('voices')\n",
    "ru_voices_list = []\n",
    "for voice in voices:\n",
    "    if ru_code in voice.id:\n",
    "        ru_voices_list.append(voices.index(voice))\n",
    "        print(voices.index(voice), voice.id)"
   ]
  },
  {
   "cell_type": "code",
   "execution_count": null,
   "metadata": {},
   "outputs": [],
   "source": [
    "# Выбираем русский \"голос\" из получившегося списка.\n",
    "# (Вводим значение индекса в окне, которое появится вверху экрана.)\n",
    "ru_index = input(\"Введите индекс выбранного русского голоса\")\n",
    "# Устанавливаем русский \"голос\", исходя из выбранного индекса.\n",
    "try:\n",
    "    if int(ru_index) in ru_voices_list:\n",
    "        ru_voice_id = voices[int(ru_index)].id\n",
    "        print(\"Выбран русский голос:\", ru_voice_id)\n",
    "    else:\n",
    "        print(\"Введено некорректное значение индекса русского голоса.\")\n",
    "        print(\"Попробуйте еще раз.\")\n",
    "except:\n",
    "    print(\"Введено некорректное значение индекса.\")\n",
    "    print(\"Попробуйте еще раз.\")"
   ]
  },
  {
   "cell_type": "code",
   "execution_count": null,
   "metadata": {},
   "outputs": [],
   "source": [
    "# Проверяем звучание русского \"голоса\"\n",
    "text = \"Проверим, как звучит этот голос\"\n",
    "text_to_speech(text,\n",
    "                   voice = ru_voice_id,\n",
    "                   rate=150,\n",
    "                   volume=1.0)"
   ]
  },
  {
   "cell_type": "code",
   "execution_count": null,
   "metadata": {},
   "outputs": [],
   "source": [
    "# Определяем, какие английские \"голоса\" установлены в операционной системе.\n",
    "en_voices_list = []\n",
    "for voice in voices:\n",
    "    if en_code in voice.id:\n",
    "        en_voices_list.append(voices.index(voice))\n",
    "        print(voices.index(voice), voice.id)"
   ]
  },
  {
   "cell_type": "code",
   "execution_count": null,
   "metadata": {},
   "outputs": [],
   "source": [
    "# Выбираем английский \"голос\" из получившегося списка.\n",
    "# (Вводим значение индекса в окне, которое появится вверху экрана.)\n",
    "en_index = input(\"Введите индекс выбранного английского голоса\")\n",
    "# Устанавливаем английский \"голос\", исходя из выбранного индекса.\n",
    "try:\n",
    "    if int(en_index) in en_voices_list:\n",
    "        en_voice_id = voices[int(en_index)].id\n",
    "        print(\"Выбран английский голос:\", en_voice_id)\n",
    "    else:\n",
    "        print(\"Введено некорректное значение индекса английского голоса.\")\n",
    "        print(\"Попробуйте еще раз.\")\n",
    "except:\n",
    "    print(\"Введено некорректное значение индекса.\")\n",
    "    print(\"Попробуйте еще раз.\")"
   ]
  },
  {
   "cell_type": "code",
   "execution_count": null,
   "metadata": {},
   "outputs": [],
   "source": [
    "# Проверяем звучание английского \"голоса\"\n",
    "text = \"Let's test how this voice sounds\"\n",
    "text_to_speech(text,\n",
    "                   voice = en_voice_id,\n",
    "                   rate=150,\n",
    "                   volume=1.0)"
   ]
  },
  {
   "cell_type": "code",
   "execution_count": null,
   "metadata": {},
   "outputs": [],
   "source": [
    "# Запись конфигурационного файла \"голосов\".\n",
    "config = configparser.ConfigParser()\n",
    "\n",
    "config['Voices'] = {'ru_voice_id': voices[int(ru_index)].id,\n",
    "                    'en_voice_id': voices[int(en_index)].id}\n",
    "\n",
    "with open('config.ini', 'w') as configfile:\n",
    "   config.write(configfile)\n",
    "   \n",
    "# Остановка текстового интерпретатора    \n",
    "engine = None"
   ]
  }
 ],
 "metadata": {
  "kernelspec": {
   "display_name": "Python 3",
   "language": "python",
   "name": "python3"
  },
  "language_info": {
   "codemirror_mode": {
    "name": "ipython",
    "version": 3
   },
   "file_extension": ".py",
   "mimetype": "text/x-python",
   "name": "python",
   "nbconvert_exporter": "python",
   "pygments_lexer": "ipython3",
   "version": "3.11.9"
  }
 },
 "nbformat": 4,
 "nbformat_minor": 2
}
